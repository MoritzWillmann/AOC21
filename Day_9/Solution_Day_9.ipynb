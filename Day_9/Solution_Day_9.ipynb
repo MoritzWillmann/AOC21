{
 "cells": [
  {
   "cell_type": "markdown",
   "metadata": {},
   "source": [
    "# Day 9\n",
    "## Part 1"
   ]
  },
  {
   "cell_type": "code",
   "execution_count": 1,
   "metadata": {},
   "outputs": [],
   "source": [
    "from typing import Sequence\n",
    "import numpy as np\n",
    "def parse_input( lines : Sequence[str]):\n",
    "    heatmap = np.zeros((len(lines), len(lines[0])-1), dtype=int)\n",
    "    for i, line in enumerate(lines):\n",
    "        heatmap[i,:] = np.fromiter(map(int, line.strip()), dtype=int)\n",
    "    return heatmap\n",
    "\n",
    "def neighbors( i : int, j : int, m : int, n : int):\n",
    "    if i == 0:\n",
    "        if j == 0:\n",
    "            return np.array([[i, i+1], [j+1, j]])\n",
    "        elif j == n-1:\n",
    "            return np.array([[i, i+1], [j-1, j]])\n",
    "        else:\n",
    "            return np.array([[i, i+1, i], [j-1, j, j+1]])\n",
    "    elif i == m-1:\n",
    "        if j == 0:\n",
    "            return np.array([[i, i-1], [j+1, j]])\n",
    "        elif j == n-1:\n",
    "            return np.array([[i, i-1], [j-1, j]])\n",
    "        else:\n",
    "            return np.array([[i, i-1, i], [j-1, j, j+1]])\n",
    "    else:\n",
    "        if j == 0:\n",
    "            return np.array([[i-1, i, i+1], [j, j+1, j]])\n",
    "        elif j == n-1:\n",
    "            return np.array([[i-1, i, i+1], [j, j-1, j]])\n",
    "        else:\n",
    "            return np.array([[i-1, i, i, i+1], [j, j-1, j+1, j]])\n"
   ]
  },
  {
   "cell_type": "code",
   "execution_count": 2,
   "metadata": {},
   "outputs": [],
   "source": [
    "def part_1( lines : Sequence[str] ):\n",
    "    heatmap = parse_input(lines)\n",
    "    m,n = heatmap.shape\n",
    "    II, JJ = np.meshgrid(np.arange(m), np.arange(n))\n",
    "    ismin = lambda i,j: all(heatmap[i,j] < heatmap[tuple(neighbors(i, j, m, n))])\n",
    "    minpoints = heatmap[np.fromiter(map(ismin, II.ravel(), JJ.ravel()), dtype=bool).reshape(n,m).T]\n",
    "    return (minpoints+1).sum()\n"
   ]
  },
  {
   "cell_type": "code",
   "execution_count": 3,
   "metadata": {},
   "outputs": [
    {
     "data": {
      "text/plain": [
       "15"
      ]
     },
     "execution_count": 3,
     "metadata": {},
     "output_type": "execute_result"
    }
   ],
   "source": [
    "with open('test.txt', 'r') as file:\n",
    "    test = file.readlines()\n",
    "part_1(test)"
   ]
  },
  {
   "cell_type": "code",
   "execution_count": 4,
   "metadata": {},
   "outputs": [
    {
     "data": {
      "text/plain": [
       "575"
      ]
     },
     "execution_count": 4,
     "metadata": {},
     "output_type": "execute_result"
    }
   ],
   "source": [
    "with open('input.txt', 'r') as file:\n",
    "    input = file.readlines()\n",
    "part_1(input)"
   ]
  },
  {
   "cell_type": "markdown",
   "metadata": {},
   "source": [
    "## Part 2"
   ]
  },
  {
   "cell_type": "code",
   "execution_count": 5,
   "metadata": {},
   "outputs": [],
   "source": [
    "def basin_size( heatmap : np.ndarray, i : int, j : int, m : int, n : int, checked : list):\n",
    "    if heatmap[i,j] < 9 and [i,j] not in checked:\n",
    "        checked.append([i,j])\n",
    "        return 1 + sum(map(lambda k: basin_size(heatmap, k[0], k[1], m, n, checked), neighbors(i, j, m, n).T))\n",
    "    else:\n",
    "        return 0"
   ]
  },
  {
   "cell_type": "code",
   "execution_count": 6,
   "metadata": {},
   "outputs": [],
   "source": [
    "def part_2( lines : Sequence[str] ):\n",
    "    heatmap = parse_input(lines)\n",
    "    m,n = heatmap.shape\n",
    "    II, JJ = np.meshgrid(np.arange(m), np.arange(n))\n",
    "    ismin = lambda i,j: all(heatmap[i,j] < heatmap[tuple(neighbors(i, j, m, n))])\n",
    "    minpoints = np.argwhere(np.fromiter(map(ismin, II.ravel(), JJ.ravel()), dtype=bool).reshape(n,m).T)\n",
    "    sizes = np.fromiter(map(lambda minpoint: basin_size(heatmap, minpoint[0], minpoint[1], m, n, []), minpoints), dtype=int)\n",
    "    sizes.sort()\n",
    "    return np.prod(sizes[-3:])"
   ]
  },
  {
   "cell_type": "code",
   "execution_count": 7,
   "metadata": {},
   "outputs": [
    {
     "data": {
      "text/plain": [
       "1134"
      ]
     },
     "execution_count": 7,
     "metadata": {},
     "output_type": "execute_result"
    }
   ],
   "source": [
    "part_2(test)"
   ]
  },
  {
   "cell_type": "code",
   "execution_count": 8,
   "metadata": {},
   "outputs": [
    {
     "data": {
      "text/plain": [
       "1019700"
      ]
     },
     "execution_count": 8,
     "metadata": {},
     "output_type": "execute_result"
    }
   ],
   "source": [
    "part_2(input)"
   ]
  }
 ],
 "metadata": {
  "interpreter": {
   "hash": "aee8b7b246df8f9039afb4144a1f6fd8d2ca17a180786b69acc140d282b71a49"
  },
  "kernelspec": {
   "display_name": "Python 3.9.9 64-bit",
   "language": "python",
   "name": "python3"
  },
  "language_info": {
   "codemirror_mode": {
    "name": "ipython",
    "version": 3
   },
   "file_extension": ".py",
   "mimetype": "text/x-python",
   "name": "python",
   "nbconvert_exporter": "python",
   "pygments_lexer": "ipython3",
   "version": "3.9.9"
  },
  "orig_nbformat": 4
 },
 "nbformat": 4,
 "nbformat_minor": 2
}
