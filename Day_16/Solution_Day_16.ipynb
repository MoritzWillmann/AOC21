{
 "cells": [
  {
   "cell_type": "markdown",
   "metadata": {},
   "source": [
    "# Day 16\n",
    "## Part 1"
   ]
  },
  {
   "cell_type": "code",
   "execution_count": 1,
   "metadata": {},
   "outputs": [],
   "source": [
    "def hex_to_bin( input : str ):\n",
    "    return ''.join('{0:04b}'.format(int(c, 16)) for c in input.strip())\n",
    "    \n",
    "def parse_code( binary : str , max_instr : int):\n",
    "    i = 0\n",
    "    instructions = []\n",
    "    while i <= len(binary)-11 and len(instructions)<max_instr:\n",
    "        v = int(binary[i:i+3], 2)\n",
    "        t = int(binary[i+3:i+6], 2)\n",
    "        if t == 4:\n",
    "            content = ''\n",
    "            last = False\n",
    "            i += 6\n",
    "            while not last:\n",
    "                last = binary[i] == '0'\n",
    "                content += binary[i+1:i+5]\n",
    "                i += 5\n",
    "            instructions.append((v, t, int(content, 2)))\n",
    "        else:\n",
    "            if binary[i+6] == '0':\n",
    "                l = int(binary[i+7:i+22], 2)\n",
    "                instructions.append((v, t, parse_code(binary[i+22:i+22+l], len(binary))))\n",
    "                i += 22+l\n",
    "            else:\n",
    "                n = int(binary[i+7:i+18], 2)\n",
    "                inst, offset = parse_code(binary[i+18:], n)\n",
    "                instructions.append((v,t,inst))\n",
    "                i += 18+offset\n",
    "    \n",
    "    if len(instructions) == max_instr:\n",
    "        return instructions, i\n",
    "    else:    \n",
    "        return instructions\n",
    "\n",
    "from typing import Sequence\n",
    "def count_versions( instructions : Sequence ):\n",
    "    s = 0\n",
    "    for i in instructions:\n",
    "        if type(i[2]) != int:\n",
    "            s += count_versions(i[2])\n",
    "        s += i[0]\n",
    "    return s"
   ]
  },
  {
   "cell_type": "code",
   "execution_count": 2,
   "metadata": {},
   "outputs": [],
   "source": [
    "def part_1 ( input : str):\n",
    "    b = hex_to_bin(input)\n",
    "    i = parse_code(b, len(b))\n",
    "    c = count_versions(i)\n",
    "    return c"
   ]
  },
  {
   "cell_type": "code",
   "execution_count": 3,
   "metadata": {},
   "outputs": [
    {
     "name": "stdout",
     "output_type": "stream",
     "text": [
      "8A004A801A8002F478: 16\n",
      "620080001611562C8802118E34: 12\n",
      "C0015000016115A2E0802F182340: 23\n",
      "A0016C880162017C3686B18A3D4780: 31\n"
     ]
    }
   ],
   "source": [
    "with open('test_1.txt', 'r') as file:\n",
    "    test = file.readlines()\n",
    "for line in test:\n",
    "    print(line.strip()+':', part_1(line))"
   ]
  },
  {
   "cell_type": "code",
   "execution_count": 4,
   "metadata": {},
   "outputs": [
    {
     "data": {
      "text/plain": [
       "986"
      ]
     },
     "execution_count": 4,
     "metadata": {},
     "output_type": "execute_result"
    }
   ],
   "source": [
    "with open('input.txt', 'r') as file:\n",
    "    input = file.readline()\n",
    "part_1(input)"
   ]
  },
  {
   "cell_type": "markdown",
   "metadata": {},
   "source": [
    "## Part 2"
   ]
  },
  {
   "cell_type": "code",
   "execution_count": 5,
   "metadata": {},
   "outputs": [],
   "source": [
    "def apply_code ( instruction : tuple ):\n",
    "    type = instruction[1]\n",
    "    if type == 0:\n",
    "        return sum(apply_code(i) for i in instruction[2])\n",
    "    elif type == 1:\n",
    "        prod = 1\n",
    "        for i in instruction[2]:\n",
    "            prod *= apply_code(i)\n",
    "        return prod\n",
    "    elif type == 2:\n",
    "        l = []\n",
    "        for i in instruction[2]:\n",
    "            l.append(apply_code(i))\n",
    "        return min(l)\n",
    "    elif type == 3:\n",
    "        l = []\n",
    "        for i in instruction[2]:\n",
    "            l.append(apply_code(i))\n",
    "        return max(l)\n",
    "    elif type == 4:\n",
    "        return instruction[2]\n",
    "    elif type == 5:\n",
    "        assert len(instruction[2]) == 2\n",
    "        return int(apply_code(instruction[2][0])>apply_code(instruction[2][1]))\n",
    "    elif type == 6:\n",
    "        assert len(instruction[2]) == 2\n",
    "        return int(apply_code(instruction[2][0])<apply_code(instruction[2][1]))\n",
    "    elif type == 7:\n",
    "        assert len(instruction[2]) == 2\n",
    "        return int(apply_code(instruction[2][0])==apply_code(instruction[2][1]))"
   ]
  },
  {
   "cell_type": "code",
   "execution_count": 6,
   "metadata": {},
   "outputs": [],
   "source": [
    "def part_2( input : str ):\n",
    "    b = hex_to_bin(input)\n",
    "    c = parse_code(b, len(b))[0]\n",
    "    return apply_code(c)"
   ]
  },
  {
   "cell_type": "code",
   "execution_count": 7,
   "metadata": {},
   "outputs": [
    {
     "name": "stdout",
     "output_type": "stream",
     "text": [
      "C200B40A82 : 3\n",
      "04005AC33890 : 54\n",
      "880086C3E88112 : 7\n",
      "CE00C43D881120 : 9\n",
      "D8005AC2A8F0 : 1\n",
      "F600BC2D8F : 0\n",
      "9C005AC2F8F0 : 0\n",
      "9C0141080250320F1802104A08 : 1\n"
     ]
    }
   ],
   "source": [
    "with open('test_2.txt', 'r') as file:\n",
    "    test = file.readlines()\n",
    "for line in test:\n",
    "    print(line.strip(),':',part_2(line.strip()))"
   ]
  },
  {
   "cell_type": "code",
   "execution_count": 8,
   "metadata": {},
   "outputs": [
    {
     "data": {
      "text/plain": [
       "18234816469452"
      ]
     },
     "execution_count": 8,
     "metadata": {},
     "output_type": "execute_result"
    }
   ],
   "source": [
    "part_2(input)"
   ]
  }
 ],
 "metadata": {
  "interpreter": {
   "hash": "aee8b7b246df8f9039afb4144a1f6fd8d2ca17a180786b69acc140d282b71a49"
  },
  "kernelspec": {
   "display_name": "Python 3.9.9 64-bit",
   "language": "python",
   "name": "python3"
  },
  "language_info": {
   "codemirror_mode": {
    "name": "ipython",
    "version": 3
   },
   "file_extension": ".py",
   "mimetype": "text/x-python",
   "name": "python",
   "nbconvert_exporter": "python",
   "pygments_lexer": "ipython3",
   "version": "3.9.9"
  },
  "orig_nbformat": 4
 },
 "nbformat": 4,
 "nbformat_minor": 2
}
