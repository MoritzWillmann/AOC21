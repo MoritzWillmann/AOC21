{
 "cells": [
  {
   "cell_type": "markdown",
   "metadata": {},
   "source": [
    "# Day 14\n",
    "## Part 1"
   ]
  },
  {
   "cell_type": "code",
   "execution_count": 1,
   "metadata": {},
   "outputs": [],
   "source": [
    "import numpy as np\n",
    "from typing import Sequence\n",
    "def parse_input( lines : Sequence[str] ):\n",
    "    template = lines[0].strip()\n",
    "    rules = {}\n",
    "    for line in lines[2:]:\n",
    "        key, rules[key] = line.strip().split(' -> ')\n",
    "    return template, rules\n",
    "\n",
    "def create_transform_matrix( rules : dict ):\n",
    "    transmat = np.zeros((len(rules.keys()), len(rules.keys())), dtype = int)\n",
    "    for i, pair in enumerate(rules.keys()):\n",
    "        p1 = list(rules.keys()).index(pair[0] + rules[pair])\n",
    "        p2 = list(rules.keys()).index(rules[pair] + pair[1])\n",
    "        transmat[[i, i], [p1, p2]] = 1\n",
    "    return transmat\n",
    "\n",
    "def create_count_matrix( rules : dict ):\n",
    "    letters = list(set([c for p in rules.keys() for c in p]))\n",
    "    positions = dict(zip(letters,range(len(letters))))\n",
    "    cmat = np.zeros((len(letters), len(rules.keys())), dtype=int)\n",
    "    for j, pair in enumerate(rules.keys()):\n",
    "        cmat[positions[rules[pair]], j] = 1\n",
    "    return positions, cmat\n",
    "\n",
    "def create_init_state( template : str, rules : dict ):\n",
    "    state = np.zeros(len(rules.keys()), dtype=int)\n",
    "    for pair in zip(template[:-1], template[1:]):\n",
    "        state[list(rules.keys()).index(''.join(pair))] += 1\n",
    "    return state\n"
   ]
  },
  {
   "cell_type": "code",
   "execution_count": 2,
   "metadata": {},
   "outputs": [],
   "source": [
    "def part_1 ( lines : Sequence[str] ):\n",
    "    template, rules = parse_input(lines)\n",
    "    mat = create_transform_matrix(rules)\n",
    "    positions, cmat = create_count_matrix(rules)\n",
    "    count = np.zeros(cmat.shape[0], dtype=int)\n",
    "    for c in template:\n",
    "        count[positions[c]] += 1\n",
    "    state = create_init_state(template, rules)\n",
    "    for _ in range(10):\n",
    "        count += np.dot(cmat, state)\n",
    "        state = np.dot(state, mat)\n",
    "    return count.max()-count.min()\n"
   ]
  },
  {
   "cell_type": "code",
   "execution_count": 3,
   "metadata": {},
   "outputs": [
    {
     "data": {
      "text/plain": [
       "1588"
      ]
     },
     "execution_count": 3,
     "metadata": {},
     "output_type": "execute_result"
    }
   ],
   "source": [
    "with open('test.txt', 'r') as file:\n",
    "    test = file.readlines()\n",
    "part_1(test)"
   ]
  },
  {
   "cell_type": "code",
   "execution_count": 4,
   "metadata": {},
   "outputs": [
    {
     "data": {
      "text/plain": [
       "3143"
      ]
     },
     "execution_count": 4,
     "metadata": {},
     "output_type": "execute_result"
    }
   ],
   "source": [
    "with open('input.txt', 'r') as file:\n",
    "    input = file.readlines()\n",
    "part_1(input)"
   ]
  },
  {
   "cell_type": "markdown",
   "metadata": {},
   "source": [
    "## Part 2"
   ]
  },
  {
   "cell_type": "code",
   "execution_count": 5,
   "metadata": {},
   "outputs": [],
   "source": [
    "def part_2 ( lines : Sequence[str] ):\n",
    "    template, rules = parse_input(lines)\n",
    "    mat = create_transform_matrix(rules)\n",
    "    positions, cmat = create_count_matrix(rules)\n",
    "    count = np.zeros(cmat.shape[0], dtype=int)\n",
    "    for c in template:\n",
    "        count[positions[c]] += 1\n",
    "    state = create_init_state(template, rules)\n",
    "    for _ in range(40):\n",
    "        count += np.dot(cmat, state)\n",
    "        state = np.dot(state, mat)\n",
    "    return count.max()-count.min()"
   ]
  },
  {
   "cell_type": "code",
   "execution_count": 6,
   "metadata": {},
   "outputs": [
    {
     "data": {
      "text/plain": [
       "2188189693529"
      ]
     },
     "execution_count": 6,
     "metadata": {},
     "output_type": "execute_result"
    }
   ],
   "source": [
    "part_2(test)"
   ]
  },
  {
   "cell_type": "code",
   "execution_count": 7,
   "metadata": {},
   "outputs": [
    {
     "data": {
      "text/plain": [
       "4110215602456"
      ]
     },
     "execution_count": 7,
     "metadata": {},
     "output_type": "execute_result"
    }
   ],
   "source": [
    "part_2(input)"
   ]
  }
 ],
 "metadata": {
  "interpreter": {
   "hash": "aee8b7b246df8f9039afb4144a1f6fd8d2ca17a180786b69acc140d282b71a49"
  },
  "kernelspec": {
   "display_name": "Python 3.9.9 64-bit",
   "language": "python",
   "name": "python3"
  },
  "language_info": {
   "codemirror_mode": {
    "name": "ipython",
    "version": 3
   },
   "file_extension": ".py",
   "mimetype": "text/x-python",
   "name": "python",
   "nbconvert_exporter": "python",
   "pygments_lexer": "ipython3",
   "version": "3.9.9"
  },
  "orig_nbformat": 4
 },
 "nbformat": 4,
 "nbformat_minor": 2
}
