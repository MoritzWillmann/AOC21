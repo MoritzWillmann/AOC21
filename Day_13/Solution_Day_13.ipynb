{
 "cells": [
  {
   "cell_type": "markdown",
   "metadata": {},
   "source": [
    "# Day 13\n",
    "## Part 1"
   ]
  },
  {
   "cell_type": "code",
   "execution_count": 1,
   "metadata": {},
   "outputs": [],
   "source": [
    "import numpy as np\n",
    "import re\n",
    "from typing import Sequence\n",
    "def parse_input( lines : Sequence[str] ):\n",
    "    brk = lines.index('\\n')\n",
    "    positions = np.zeros((brk, 2), dtype=int)\n",
    "    for i, line in enumerate(lines[:brk]):\n",
    "        positions[i,:] = np.array(line.strip().split(','), dtype=int)\n",
    "    paper = np.zeros(positions.max(0)[::-1]+1, dtype=int)\n",
    "    for (x,y) in positions:\n",
    "        paper[y,x] = 1\n",
    "    pattern = re.compile(r'fold along ([xy])=(\\d+)')\n",
    "    folds = [pattern.findall(line)[0] for line in lines[brk+1:]]\n",
    "    return paper, folds\n",
    "        "
   ]
  },
  {
   "cell_type": "code",
   "execution_count": 2,
   "metadata": {},
   "outputs": [],
   "source": [
    "def fold( paper : np.ndarray, axis : str, position : int):\n",
    "    if axis == 'y':\n",
    "        a = paper[:position, :]\n",
    "        b = np.flip(paper[position+1:, :], 0)\n",
    "        if a.shape[0] > b.shape[0]:\n",
    "            a[a.shape[0]-b.shape[0]:, :] += b\n",
    "            return a\n",
    "        elif a.shape[0] < b.shape[0]:\n",
    "            b[b.shape[0]-a.shape[0]:, :] += a\n",
    "            return b\n",
    "        else:\n",
    "            return a+b\n",
    "    if axis == 'x':\n",
    "        a = paper[:, :position]\n",
    "        b = np.flip(paper[:, position+1:], 1)\n",
    "        if a.shape[1] > b.shape[1]:\n",
    "            a[:, a.shape[1]-b.shape[1]:] += b\n",
    "            return a\n",
    "        elif a.shape[1] < b.shape[1]:\n",
    "            b[:, b.shape[1]-a.shape[1]:] += a\n",
    "            return b\n",
    "        else:\n",
    "            return a+b"
   ]
  },
  {
   "cell_type": "code",
   "execution_count": 3,
   "metadata": {},
   "outputs": [],
   "source": [
    "def part_1( lines : Sequence[str] ):\n",
    "    paper, folds = parse_input(lines)\n",
    "    paper = fold(paper, folds[0][0], int(folds[0][1]))\n",
    "    return (paper>0).sum()"
   ]
  },
  {
   "cell_type": "code",
   "execution_count": 4,
   "metadata": {},
   "outputs": [
    {
     "data": {
      "text/plain": [
       "17"
      ]
     },
     "execution_count": 4,
     "metadata": {},
     "output_type": "execute_result"
    }
   ],
   "source": [
    "with open('test.txt', 'r') as file:\n",
    "    test = file.readlines()\n",
    "part_1(test)"
   ]
  },
  {
   "cell_type": "code",
   "execution_count": 5,
   "metadata": {},
   "outputs": [
    {
     "data": {
      "text/plain": [
       "708"
      ]
     },
     "execution_count": 5,
     "metadata": {},
     "output_type": "execute_result"
    }
   ],
   "source": [
    "with open('input.txt', 'r') as file:\n",
    "    input = file.readlines()\n",
    "part_1(input)"
   ]
  },
  {
   "cell_type": "markdown",
   "metadata": {},
   "source": [
    "## Part 2"
   ]
  },
  {
   "cell_type": "code",
   "execution_count": 6,
   "metadata": {},
   "outputs": [],
   "source": [
    "import matplotlib.pyplot as plt\n",
    "def  part_2( lines : Sequence[str] ):\n",
    "    paper, folds = parse_input(lines)\n",
    "    for ax, pos in folds:\n",
    "        paper = fold(paper, ax, int(pos))\n",
    "    for line in paper>0:\n",
    "        print(''.join('#' if c else ' ' for c in line))"
   ]
  },
  {
   "cell_type": "code",
   "execution_count": 7,
   "metadata": {},
   "outputs": [
    {
     "name": "stdout",
     "output_type": "stream",
     "text": [
      "#####\n",
      "#   #\n",
      "#   #\n",
      "#   #\n",
      "#####\n",
      "     \n",
      "     \n"
     ]
    }
   ],
   "source": [
    "part_2(test)"
   ]
  },
  {
   "cell_type": "code",
   "execution_count": 8,
   "metadata": {},
   "outputs": [
    {
     "name": "stdout",
     "output_type": "stream",
     "text": [
      "#### ###  #    #  # ###  ###  #### #  # \n",
      "#    #  # #    #  # #  # #  # #    #  # \n",
      "###  ###  #    #  # ###  #  # ###  #### \n",
      "#    #  # #    #  # #  # ###  #    #  # \n",
      "#    #  # #    #  # #  # # #  #    #  # \n",
      "#### ###  ####  ##  ###  #  # #    #  # \n"
     ]
    }
   ],
   "source": [
    "part_2(input)"
   ]
  }
 ],
 "metadata": {
  "interpreter": {
   "hash": "916dbcbb3f70747c44a77c7bcd40155683ae19c65e1c03b4aa3499c5328201f1"
  },
  "kernelspec": {
   "display_name": "Python 3.8.10 64-bit",
   "language": "python",
   "name": "python3"
  },
  "language_info": {
   "codemirror_mode": {
    "name": "ipython",
    "version": 3
   },
   "file_extension": ".py",
   "mimetype": "text/x-python",
   "name": "python",
   "nbconvert_exporter": "python",
   "pygments_lexer": "ipython3",
   "version": "3.8.10"
  },
  "orig_nbformat": 4
 },
 "nbformat": 4,
 "nbformat_minor": 2
}
