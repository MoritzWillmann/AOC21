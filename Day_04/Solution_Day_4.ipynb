{
 "cells": [
  {
   "cell_type": "markdown",
   "metadata": {},
   "source": [
    "# Day 4\n",
    "## Part 1"
   ]
  },
  {
   "cell_type": "code",
   "execution_count": 1,
   "metadata": {},
   "outputs": [],
   "source": [
    "import numpy as np\n",
    "def read(name: str):\n",
    "    inp = {\n",
    "        'draw' : [],\n",
    "        'boards' : []\n",
    "        }\n",
    "    with open(name, 'r') as file:\n",
    "        lines = file.readlines()\n",
    "    inp['draw'] = list(map(int, lines[0].strip().split(',')))\n",
    "    for i in range((len(lines)-1)//6):\n",
    "        inp['boards'] += [np.array([\n",
    "            list(map(int, line.strip().split())) for line in lines[i*6+2:i*6+7]\n",
    "        ])]\n",
    "    return inp"
   ]
  },
  {
   "cell_type": "code",
   "execution_count": 2,
   "metadata": {},
   "outputs": [],
   "source": [
    "def check_win(board: np.array):\n",
    "    if any(board.sum(0)==-5) or any(board.sum(1)==-5):\n",
    "        for o_i, o_j in np.argwhere(board==-1):\n",
    "            board[o_i, o_j] = 0\n",
    "        return board.sum()\n",
    "    else:\n",
    "        return 0\n",
    "def part_1(input: dict):\n",
    "    for draw in input['draw']:\n",
    "        for board in input['boards']:\n",
    "            for o_i, o_j in np.argwhere(board==draw):\n",
    "                board[o_i, o_j] = -1\n",
    "            score = check_win(board)\n",
    "            if score:\n",
    "                return score * draw\n",
    "\n",
    "    "
   ]
  },
  {
   "cell_type": "code",
   "execution_count": 3,
   "metadata": {},
   "outputs": [
    {
     "data": {
      "text/plain": [
       "4512"
      ]
     },
     "execution_count": 3,
     "metadata": {},
     "output_type": "execute_result"
    }
   ],
   "source": [
    "test_input = read('test.txt')\n",
    "part_1(test_input)\n"
   ]
  },
  {
   "cell_type": "code",
   "execution_count": 4,
   "metadata": {},
   "outputs": [
    {
     "data": {
      "text/plain": [
       "4662"
      ]
     },
     "execution_count": 4,
     "metadata": {},
     "output_type": "execute_result"
    }
   ],
   "source": [
    "input = read('input.txt')\n",
    "part_1(input)"
   ]
  },
  {
   "cell_type": "markdown",
   "metadata": {},
   "source": [
    "## Part 2"
   ]
  },
  {
   "cell_type": "code",
   "execution_count": 5,
   "metadata": {},
   "outputs": [],
   "source": [
    "def part_2(input: dict):\n",
    "    won = np.zeros(len(input['boards']))\n",
    "    scores = []\n",
    "    for draw in input['draw']:\n",
    "        for i, board in enumerate(input['boards']):\n",
    "            for o_i, o_j in np.argwhere(board==draw):\n",
    "                board[o_i, o_j] = -1\n",
    "            score = check_win(board)\n",
    "            if score > 0 and won[i] == 0:\n",
    "                won[i] = 1\n",
    "                scores += [score * draw]\n",
    "    return scores[-1]"
   ]
  },
  {
   "cell_type": "code",
   "execution_count": 6,
   "metadata": {},
   "outputs": [
    {
     "data": {
      "text/plain": [
       "1924"
      ]
     },
     "execution_count": 6,
     "metadata": {},
     "output_type": "execute_result"
    }
   ],
   "source": [
    "test_input = read('test.txt')\n",
    "part_2(test_input)"
   ]
  },
  {
   "cell_type": "code",
   "execution_count": 7,
   "metadata": {},
   "outputs": [
    {
     "data": {
      "text/plain": [
       "12080"
      ]
     },
     "execution_count": 7,
     "metadata": {},
     "output_type": "execute_result"
    }
   ],
   "source": [
    "input = read('input.txt')\n",
    "part_2(input)"
   ]
  }
 ],
 "metadata": {
  "interpreter": {
   "hash": "949777d72b0d2535278d3dc13498b2535136f6dfe0678499012e853ee9abcab1"
  },
  "kernelspec": {
   "display_name": "Python 3.9.7 64-bit",
   "name": "python3"
  },
  "language_info": {
   "codemirror_mode": {
    "name": "ipython",
    "version": 3
   },
   "file_extension": ".py",
   "mimetype": "text/x-python",
   "name": "python",
   "nbconvert_exporter": "python",
   "pygments_lexer": "ipython3",
   "version": "3.9.9"
  },
  "orig_nbformat": 4
 },
 "nbformat": 4,
 "nbformat_minor": 2
}
