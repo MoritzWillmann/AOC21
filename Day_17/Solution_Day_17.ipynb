{
 "cells": [
  {
   "cell_type": "markdown",
   "metadata": {},
   "source": [
    "# Day 17\n",
    "## Part 1"
   ]
  },
  {
   "cell_type": "code",
   "execution_count": 1,
   "metadata": {},
   "outputs": [],
   "source": [
    "import re\n",
    "def parse_input ( input : str ):\n",
    "    pattern = re.compile(r'target area: x=(-?\\d+)..(-?\\d+), y=(-?\\d+)..(-?\\d+)')\n",
    "    x1, x2, y1, y2 = list(map(int, pattern.findall(input)[0]))\n",
    "    return (x1, x2), (y1, y2)"
   ]
  },
  {
   "cell_type": "code",
   "execution_count": 2,
   "metadata": {},
   "outputs": [],
   "source": [
    "def part_1( input : str ):\n",
    "    _, gy = parse_input(input)\n",
    "    # the velocity vy will be the negative starting velocity when hitting 0 again.\n",
    "    # To still be able to hit the target area, we can choose at most the absolute\n",
    "    # of the lower y bound -1. The resulting highpoint can be calculated using Gauß.\n",
    "    # x is not relevant to this case\n",
    "    return abs(gy[0])*(abs(gy[0])-1)//2"
   ]
  },
  {
   "cell_type": "code",
   "execution_count": 3,
   "metadata": {},
   "outputs": [
    {
     "data": {
      "text/plain": [
       "45"
      ]
     },
     "execution_count": 3,
     "metadata": {},
     "output_type": "execute_result"
    }
   ],
   "source": [
    "with open('test.txt', 'r') as file:\n",
    "    test = file.readline()\n",
    "part_1(test)"
   ]
  },
  {
   "cell_type": "code",
   "execution_count": 4,
   "metadata": {},
   "outputs": [
    {
     "data": {
      "text/plain": [
       "6555"
      ]
     },
     "execution_count": 4,
     "metadata": {},
     "output_type": "execute_result"
    }
   ],
   "source": [
    "with open('input.txt', 'r') as file:\n",
    "    input = file.readline()\n",
    "part_1(input)"
   ]
  },
  {
   "cell_type": "markdown",
   "metadata": {},
   "source": [
    "## Part 2"
   ]
  },
  {
   "cell_type": "code",
   "execution_count": 5,
   "metadata": {},
   "outputs": [],
   "source": [
    "def part_2( input : str ):\n",
    "    gx, gy = parse_input(input)\n",
    "    hits = 0\n",
    "    for vx_init in range(1,max(gx)+1):\n",
    "        for vy in range(-abs(min(gy)), abs(min(gy))):\n",
    "            vx = vx_init\n",
    "            x = 0\n",
    "            y = 0\n",
    "            for _ in range(1000):\n",
    "                # update position\n",
    "                x += vx\n",
    "                y += vy\n",
    "                # update velocity\n",
    "                if vx > 0:\n",
    "                    vx -= 1\n",
    "                vy -= 1\n",
    "                if (gx[0] <= x <= gx[1]) and (gy[0] <= y <= gy[1]):\n",
    "                    # check if trajectory is a hit\n",
    "                    hits += 1\n",
    "                    break\n",
    "                if x > gx[1] or y < gy[0]:\n",
    "                    # check if we are past target area\n",
    "                    break\n",
    "    return hits"
   ]
  },
  {
   "cell_type": "code",
   "execution_count": 6,
   "metadata": {},
   "outputs": [
    {
     "data": {
      "text/plain": [
       "112"
      ]
     },
     "execution_count": 6,
     "metadata": {},
     "output_type": "execute_result"
    }
   ],
   "source": [
    "part_2(test)"
   ]
  },
  {
   "cell_type": "code",
   "execution_count": 7,
   "metadata": {},
   "outputs": [
    {
     "data": {
      "text/plain": [
       "4973"
      ]
     },
     "execution_count": 7,
     "metadata": {},
     "output_type": "execute_result"
    }
   ],
   "source": [
    "part_2(input)"
   ]
  }
 ],
 "metadata": {
  "interpreter": {
   "hash": "916dbcbb3f70747c44a77c7bcd40155683ae19c65e1c03b4aa3499c5328201f1"
  },
  "kernelspec": {
   "display_name": "Python 3.8.10 64-bit",
   "language": "python",
   "name": "python3"
  },
  "language_info": {
   "codemirror_mode": {
    "name": "ipython",
    "version": 3
   },
   "file_extension": ".py",
   "mimetype": "text/x-python",
   "name": "python",
   "nbconvert_exporter": "python",
   "pygments_lexer": "ipython3",
   "version": "3.8.10"
  },
  "orig_nbformat": 4
 },
 "nbformat": 4,
 "nbformat_minor": 2
}
