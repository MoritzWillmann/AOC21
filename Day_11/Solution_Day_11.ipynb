{
 "cells": [
  {
   "cell_type": "markdown",
   "metadata": {},
   "source": [
    "# Day 11\n",
    "## Part 1"
   ]
  },
  {
   "cell_type": "code",
   "execution_count": 1,
   "metadata": {},
   "outputs": [],
   "source": [
    "import numpy as np\n",
    "from typing import Sequence\n",
    "def parse_input ( lines : Sequence[str] ):\n",
    "    energy_field = np.zeros((len(lines), len(lines[0])-1), dtype = int)\n",
    "    for i, line in enumerate(lines):\n",
    "        energy_field[i,:] = np.fromiter(map(int, list(line.strip())), dtype=int)\n",
    "    return energy_field"
   ]
  },
  {
   "cell_type": "code",
   "execution_count": 2,
   "metadata": {},
   "outputs": [],
   "source": [
    "def part_1 ( input : Sequence[str] ):\n",
    "    energy_field = parse_input(input)\n",
    "    flash_count = 0\n",
    "    m,n = energy_field.shape\n",
    "    for _ in range(100):\n",
    "        energy_field += 1\n",
    "        while (energy_field > 9).any():\n",
    "            for (i,j) in np.argwhere(energy_field>9):\n",
    "                energy_field[i-1+(i<1):i+2-(i>m-1), j-1+(j<1):j+2-(j>n-1)] += 1\n",
    "                energy_field[i, j] = -1000\n",
    "        flash_count += (energy_field<0).sum()\n",
    "        energy_field *= energy_field>0\n",
    "    return flash_count"
   ]
  },
  {
   "cell_type": "code",
   "execution_count": 3,
   "metadata": {},
   "outputs": [
    {
     "data": {
      "text/plain": [
       "1656"
      ]
     },
     "execution_count": 3,
     "metadata": {},
     "output_type": "execute_result"
    }
   ],
   "source": [
    "with open('test.txt', 'r') as file:\n",
    "    test = file.readlines()\n",
    "part_1(test)"
   ]
  },
  {
   "cell_type": "code",
   "execution_count": 4,
   "metadata": {},
   "outputs": [
    {
     "data": {
      "text/plain": [
       "1793"
      ]
     },
     "execution_count": 4,
     "metadata": {},
     "output_type": "execute_result"
    }
   ],
   "source": [
    "with open('input.txt', 'r') as file:\n",
    "    input = file.readlines()\n",
    "part_1(input)\n"
   ]
  },
  {
   "cell_type": "markdown",
   "metadata": {},
   "source": [
    "## Part 2"
   ]
  },
  {
   "cell_type": "code",
   "execution_count": 5,
   "metadata": {},
   "outputs": [],
   "source": [
    "def part_2 ( input : Sequence[str] ):\n",
    "    energy_field = parse_input(input)\n",
    "    m,n = energy_field.shape\n",
    "    for step in range(1,1000):\n",
    "        energy_field += 1\n",
    "        while (energy_field > 9).any():\n",
    "            for (i,j) in np.argwhere(energy_field>9):\n",
    "                energy_field[i-1+(i<1):i+2-(i>m-1), j-1+(j<1):j+2-(j>n-1)] += 1\n",
    "                energy_field[i, j] = -1000\n",
    "        energy_field *= energy_field>0\n",
    "        if energy_field.sum() == 0:\n",
    "            return step\n",
    "    return 0"
   ]
  },
  {
   "cell_type": "code",
   "execution_count": 6,
   "metadata": {},
   "outputs": [
    {
     "data": {
      "text/plain": [
       "195"
      ]
     },
     "execution_count": 6,
     "metadata": {},
     "output_type": "execute_result"
    }
   ],
   "source": [
    "part_2(test)"
   ]
  },
  {
   "cell_type": "code",
   "execution_count": 7,
   "metadata": {},
   "outputs": [
    {
     "data": {
      "text/plain": [
       "247"
      ]
     },
     "execution_count": 7,
     "metadata": {},
     "output_type": "execute_result"
    }
   ],
   "source": [
    "part_2(input)"
   ]
  }
 ],
 "metadata": {
  "interpreter": {
   "hash": "aee8b7b246df8f9039afb4144a1f6fd8d2ca17a180786b69acc140d282b71a49"
  },
  "kernelspec": {
   "display_name": "Python 3.9.9 64-bit",
   "language": "python",
   "name": "python3"
  },
  "language_info": {
   "codemirror_mode": {
    "name": "ipython",
    "version": 3
   },
   "file_extension": ".py",
   "mimetype": "text/x-python",
   "name": "python",
   "nbconvert_exporter": "python",
   "pygments_lexer": "ipython3",
   "version": "3.9.9"
  },
  "orig_nbformat": 4
 },
 "nbformat": 4,
 "nbformat_minor": 2
}
