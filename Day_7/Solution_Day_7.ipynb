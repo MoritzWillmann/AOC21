{
 "cells": [
  {
   "cell_type": "markdown",
   "metadata": {},
   "source": [
    "# Day 7\n",
    "## Part 1"
   ]
  },
  {
   "cell_type": "code",
   "execution_count": 1,
   "metadata": {},
   "outputs": [],
   "source": [
    "import numpy as np\n",
    "def cost_1( start_positions : np.ndarray, position : int):\n",
    "    return sum(abs(start_positions-position))"
   ]
  },
  {
   "cell_type": "code",
   "execution_count": 2,
   "metadata": {},
   "outputs": [],
   "source": [
    "def part_1( start_positions : np.ndarray ):\n",
    "    max_iter = 10000\n",
    "    pos = int(start_positions.mean())\n",
    "    for _ in range(max_iter):\n",
    "        c = cost_1(start_positions, pos)\n",
    "        if cost_1(start_positions, pos+1) < c:\n",
    "            pos += 1\n",
    "        elif cost_1(start_positions, pos-1) < c:\n",
    "            pos -= 1\n",
    "        else:\n",
    "            break\n",
    "    return pos, c\n",
    "    "
   ]
  },
  {
   "cell_type": "code",
   "execution_count": 3,
   "metadata": {},
   "outputs": [
    {
     "data": {
      "text/plain": [
       "(2, 37)"
      ]
     },
     "execution_count": 3,
     "metadata": {},
     "output_type": "execute_result"
    }
   ],
   "source": [
    "with open('test.txt', 'r') as file:\n",
    "    test = np.fromiter(map(int, file.readline().strip().split(',')), dtype=int)\n",
    "part_1(test)"
   ]
  },
  {
   "cell_type": "code",
   "execution_count": 4,
   "metadata": {},
   "outputs": [
    {
     "data": {
      "text/plain": [
       "(324, 344535)"
      ]
     },
     "execution_count": 4,
     "metadata": {},
     "output_type": "execute_result"
    }
   ],
   "source": [
    "with open('input.txt', 'r') as file:\n",
    "    input = np.fromiter(map(int, file.readline().strip().split(',')), dtype=int)\n",
    "part_1(input)"
   ]
  },
  {
   "cell_type": "markdown",
   "metadata": {},
   "source": [
    "## Part 2"
   ]
  },
  {
   "cell_type": "code",
   "execution_count": 5,
   "metadata": {},
   "outputs": [],
   "source": [
    "def individual_cost( start_position : int, position : int):\n",
    "    return sum(range(abs(start_position-position)+1))\n",
    "def cost_2( start_positions : np.ndarray, position : int):\n",
    "    return sum(individual_cost(sp, position) for sp in start_positions)"
   ]
  },
  {
   "cell_type": "code",
   "execution_count": 6,
   "metadata": {},
   "outputs": [],
   "source": [
    "def part_2( start_positions : np.ndarray ):\n",
    "    max_iter = 10000\n",
    "    pos = int(start_positions.mean())\n",
    "    for _ in range(max_iter):\n",
    "        c = cost_2(start_positions, pos)\n",
    "        if cost_2(start_positions, pos+1) < c:\n",
    "            pos += 1\n",
    "        elif cost_2(start_positions, pos-1) < c:\n",
    "            pos -= 1\n",
    "        else:\n",
    "            break\n",
    "    return pos, c\n",
    "    "
   ]
  },
  {
   "cell_type": "code",
   "execution_count": 7,
   "metadata": {},
   "outputs": [
    {
     "data": {
      "text/plain": [
       "(5, 168)"
      ]
     },
     "execution_count": 7,
     "metadata": {},
     "output_type": "execute_result"
    }
   ],
   "source": [
    "part_2(test)"
   ]
  },
  {
   "cell_type": "code",
   "execution_count": 8,
   "metadata": {},
   "outputs": [
    {
     "data": {
      "text/plain": [
       "(472, 95581659)"
      ]
     },
     "execution_count": 8,
     "metadata": {},
     "output_type": "execute_result"
    }
   ],
   "source": [
    "part_2(input)"
   ]
  }
 ],
 "metadata": {
  "interpreter": {
   "hash": "aee8b7b246df8f9039afb4144a1f6fd8d2ca17a180786b69acc140d282b71a49"
  },
  "kernelspec": {
   "display_name": "Python 3.9.9 64-bit",
   "language": "python",
   "name": "python3"
  },
  "language_info": {
   "codemirror_mode": {
    "name": "ipython",
    "version": 3
   },
   "file_extension": ".py",
   "mimetype": "text/x-python",
   "name": "python",
   "nbconvert_exporter": "python",
   "pygments_lexer": "ipython3",
   "version": "3.9.9"
  },
  "orig_nbformat": 4
 },
 "nbformat": 4,
 "nbformat_minor": 2
}
