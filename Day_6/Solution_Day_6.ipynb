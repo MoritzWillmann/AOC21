{
 "cells": [
  {
   "cell_type": "markdown",
   "metadata": {},
   "source": [
    "# Day 6\n",
    "## Part 1"
   ]
  },
  {
   "cell_type": "code",
   "execution_count": 197,
   "metadata": {},
   "outputs": [],
   "source": [
    "with open('test.txt', 'r') as file:\n",
    "    test = np.fromiter(map(int, file.readline().strip().split(',')), dtype=int)"
   ]
  },
  {
   "cell_type": "code",
   "execution_count": 207,
   "metadata": {},
   "outputs": [
    {
     "name": "stdout",
     "output_type": "stream",
     "text": [
      "[0 1 1 2 1 0 0 0 0]\n",
      "[1 1 2 1 0 0 1 0 0]\n",
      "[1 2 1 0 0 1 1 0 1]\n",
      "[2 1 0 0 1 1 2 1 1]\n",
      "[1 0 0 1 1 2 2 1 2]\n",
      "[0 0 1 1 2 2 1 2 1]\n",
      "[0 1 1 2 2 1 2 1 0]\n",
      "[1 1 2 2 1 2 2 0 0]\n",
      "[1 2 2 1 2 2 1 0 1]\n",
      "[2 2 1 2 2 1 2 1 1]\n",
      "[2 1 2 2 1 2 3 1 2]\n",
      "[1 2 2 1 2 3 2 2 2]\n",
      "[2 2 1 2 3 2 4 2 1]\n",
      "[2 1 2 3 2 4 4 1 2]\n",
      "[1 2 3 2 4 4 2 2 2]\n",
      "[2 3 2 4 4 2 4 2 1]\n",
      "[3 2 4 4 2 4 5 1 2]\n",
      "29\n"
     ]
    }
   ],
   "source": [
    "import numpy as np\n",
    "state = np.zeros(9, dtype= int)\n",
    "for i in test:\n",
    "    state[i] += 1\n",
    "for i in range(16):\n",
    "    print(state)\n",
    "    state[6] += state[0]\n",
    "    state = np.roll(state, -1)\n",
    "print(state.sum())"
   ]
  },
  {
   "cell_type": "code",
   "execution_count": 199,
   "metadata": {},
   "outputs": [
    {
     "data": {
      "text/plain": [
       "array([3, 4, 3, 1, 2])"
      ]
     },
     "execution_count": 199,
     "metadata": {},
     "output_type": "execute_result"
    }
   ],
   "source": [
    "test"
   ]
  },
  {
   "cell_type": "code",
   "execution_count": null,
   "metadata": {},
   "outputs": [],
   "source": []
  }
 ],
 "metadata": {
  "interpreter": {
   "hash": "916dbcbb3f70747c44a77c7bcd40155683ae19c65e1c03b4aa3499c5328201f1"
  },
  "kernelspec": {
   "display_name": "Python 3.8.10 64-bit",
   "language": "python",
   "name": "python3"
  },
  "language_info": {
   "codemirror_mode": {
    "name": "ipython",
    "version": 3
   },
   "file_extension": ".py",
   "mimetype": "text/x-python",
   "name": "python",
   "nbconvert_exporter": "python",
   "pygments_lexer": "ipython3",
   "version": "3.8.10"
  },
  "orig_nbformat": 4
 },
 "nbformat": 4,
 "nbformat_minor": 2
}
