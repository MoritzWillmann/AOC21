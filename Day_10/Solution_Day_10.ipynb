{
 "cells": [
  {
   "cell_type": "markdown",
   "metadata": {},
   "source": [
    "# Day 10\n",
    "## Part 1"
   ]
  },
  {
   "cell_type": "code",
   "execution_count": 1,
   "metadata": {},
   "outputs": [],
   "source": [
    "match = {\n",
    "    '(' : ')',\n",
    "    '[' : ']',\n",
    "    '{' : '}',\n",
    "    '<' : '>'\n",
    "}\n",
    "\n",
    "values = {\n",
    "    ')' : 3,\n",
    "    ']' : 57,\n",
    "    '}' : 1197,\n",
    "    '>' : 25137\n",
    "}\n",
    "\n",
    "def syntax_error_score( line : str ):\n",
    "    stack = []\n",
    "    for parenthesis in line.strip():\n",
    "        if parenthesis in '([{<':\n",
    "            stack.append(match[parenthesis])\n",
    "        else:\n",
    "            truth = stack.pop()\n",
    "            if truth != parenthesis:\n",
    "                return values[parenthesis]\n",
    "    return 0"
   ]
  },
  {
   "cell_type": "code",
   "execution_count": 2,
   "metadata": {},
   "outputs": [],
   "source": [
    "from typing import Sequence\n",
    "def part_1( lines : Sequence[str] ):\n",
    "    return sum(map(syntax_error_score, lines))"
   ]
  },
  {
   "cell_type": "code",
   "execution_count": 3,
   "metadata": {},
   "outputs": [
    {
     "data": {
      "text/plain": [
       "26397"
      ]
     },
     "execution_count": 3,
     "metadata": {},
     "output_type": "execute_result"
    }
   ],
   "source": [
    "with open('test.txt', 'r') as file:\n",
    "    test = file.readlines()\n",
    "part_1(test)"
   ]
  },
  {
   "cell_type": "code",
   "execution_count": 4,
   "metadata": {},
   "outputs": [
    {
     "data": {
      "text/plain": [
       "216297"
      ]
     },
     "execution_count": 4,
     "metadata": {},
     "output_type": "execute_result"
    }
   ],
   "source": [
    "with open('input.txt', 'r') as file:\n",
    "    input = file.readlines()\n",
    "part_1(input)"
   ]
  },
  {
   "cell_type": "markdown",
   "metadata": {},
   "source": [
    "## Part 2"
   ]
  },
  {
   "cell_type": "code",
   "execution_count": 5,
   "metadata": {},
   "outputs": [],
   "source": [
    "match = {\n",
    "    '(' : ')',\n",
    "    '[' : ']',\n",
    "    '{' : '}',\n",
    "    '<' : '>'\n",
    "}\n",
    "\n",
    "values = {\n",
    "    ')' : 1,\n",
    "    ']' : 2,\n",
    "    '}' : 3,\n",
    "    '>' : 4\n",
    "}\n",
    "\n",
    "def closing_sequence( line : str ):\n",
    "    stack = []\n",
    "    for parenthesis in line.strip():\n",
    "        if parenthesis in '([{<':\n",
    "            stack.append(match[parenthesis])\n",
    "        else:\n",
    "            truth = stack.pop()\n",
    "            if truth != parenthesis:\n",
    "                return 0\n",
    "    score = 0\n",
    "    for parenthesis in stack[::-1]:\n",
    "        score *= 5\n",
    "        score += values[parenthesis]\n",
    "    return score"
   ]
  },
  {
   "cell_type": "code",
   "execution_count": 6,
   "metadata": {},
   "outputs": [],
   "source": [
    "import numpy as np\n",
    "def part_2( lines : Sequence[str] ):\n",
    "    scores = []\n",
    "    for line in lines:\n",
    "        score = closing_sequence(line)\n",
    "        if score != 0:\n",
    "            scores.append(score)\n",
    "    return int(np.median(scores))"
   ]
  },
  {
   "cell_type": "code",
   "execution_count": 7,
   "metadata": {},
   "outputs": [
    {
     "data": {
      "text/plain": [
       "288957"
      ]
     },
     "execution_count": 7,
     "metadata": {},
     "output_type": "execute_result"
    }
   ],
   "source": [
    "part_2(test)"
   ]
  },
  {
   "cell_type": "code",
   "execution_count": 8,
   "metadata": {},
   "outputs": [
    {
     "data": {
      "text/plain": [
       "2165057169"
      ]
     },
     "execution_count": 8,
     "metadata": {},
     "output_type": "execute_result"
    }
   ],
   "source": [
    "part_2(input)"
   ]
  }
 ],
 "metadata": {
  "interpreter": {
   "hash": "aee8b7b246df8f9039afb4144a1f6fd8d2ca17a180786b69acc140d282b71a49"
  },
  "kernelspec": {
   "display_name": "Python 3.9.9 64-bit",
   "language": "python",
   "name": "python3"
  },
  "language_info": {
   "codemirror_mode": {
    "name": "ipython",
    "version": 3
   },
   "file_extension": ".py",
   "mimetype": "text/x-python",
   "name": "python",
   "nbconvert_exporter": "python",
   "pygments_lexer": "ipython3",
   "version": "3.9.9"
  },
  "orig_nbformat": 4
 },
 "nbformat": 4,
 "nbformat_minor": 2
}
