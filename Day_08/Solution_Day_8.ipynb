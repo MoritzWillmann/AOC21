{
 "cells": [
  {
   "cell_type": "markdown",
   "metadata": {},
   "source": [
    "# Day 8\n",
    "## Part 1"
   ]
  },
  {
   "cell_type": "code",
   "execution_count": 1,
   "metadata": {},
   "outputs": [],
   "source": [
    "from typing import Sequence\n",
    "def parse_input( lines : Sequence[str] ):\n",
    "    data = {\n",
    "        'inputs' : [],\n",
    "        'outputs' : []\n",
    "    }\n",
    "    for line in lines:\n",
    "        inp, out = line.strip().split(' | ')\n",
    "        data['inputs'] += [inp.split(' ')]\n",
    "        data['outputs'] += [out.split(' ')]\n",
    "    return data"
   ]
  },
  {
   "cell_type": "code",
   "execution_count": 2,
   "metadata": {},
   "outputs": [],
   "source": [
    "def is_1478( digit : str):\n",
    "    if len(digit) in [2, 4, 3, 7]:\n",
    "        return 1\n",
    "    else:\n",
    "        return 0\n",
    "\n",
    "def part_1( data : dict):\n",
    "    return sum([is_1478(num) for out in data['outputs'] for num in out ])"
   ]
  },
  {
   "cell_type": "code",
   "execution_count": 3,
   "metadata": {},
   "outputs": [
    {
     "data": {
      "text/plain": [
       "26"
      ]
     },
     "execution_count": 3,
     "metadata": {},
     "output_type": "execute_result"
    }
   ],
   "source": [
    "with open('test.txt', 'r') as file:\n",
    "    test = parse_input(file.readlines())\n",
    "part_1(test)"
   ]
  },
  {
   "cell_type": "code",
   "execution_count": 4,
   "metadata": {},
   "outputs": [
    {
     "data": {
      "text/plain": [
       "539"
      ]
     },
     "execution_count": 4,
     "metadata": {},
     "output_type": "execute_result"
    }
   ],
   "source": [
    "with open('input.txt', 'r') as file:\n",
    "    input = parse_input(file.readlines())\n",
    "part_1(input)"
   ]
  },
  {
   "cell_type": "markdown",
   "metadata": {},
   "source": [
    "## Part 2"
   ]
  },
  {
   "cell_type": "code",
   "execution_count": 5,
   "metadata": {},
   "outputs": [],
   "source": [
    "s_to_n = {\n",
    "    'abcefg' : '0',\n",
    "    'cf' : '1',\n",
    "    'acdeg' : '2',\n",
    "    'acdfg' : '3',\n",
    "    'bcdf' : '4',\n",
    "    'abdfg' : '5',\n",
    "    'abdefg' : '6',\n",
    "    'acf' : '7',\n",
    "    'abcdefg' : '8',\n",
    "    'abcdfg' : '9'\n",
    "}\n",
    "\n",
    "def count_occurences( input : Sequence[str] ):\n",
    "    concatenated = ''.join([c for chunk in input for c in chunk])\n",
    "    occurences = {}\n",
    "    for c in 'abcdefg':\n",
    "        occurences[c] = concatenated.count(c)\n",
    "    return occurences\n",
    "\n",
    "def create_dictionary( input : Sequence[str] ):\n",
    "    dictionary = {}\n",
    "    occ = count_occurences(input)\n",
    "    known = sorted([num for num in input if len(num) in [2,4]], key=len)\n",
    "    for c in 'abcdefg':\n",
    "        if occ[c] == 4:\n",
    "            dictionary[ord(c)] = ord('e')\n",
    "        elif occ[c] == 6:\n",
    "            dictionary[ord(c)] = ord('b')\n",
    "        elif occ[c] == 9:\n",
    "            dictionary[ord(c)] = ord('f')\n",
    "        elif occ[c] == 7 and c in known[1]:\n",
    "            dictionary[ord(c)] = ord('d')\n",
    "        elif occ[c] == 7:\n",
    "            dictionary[ord(c)] = ord('g')\n",
    "        elif occ[c] == 8 and c in known[0]:\n",
    "            dictionary[ord(c)] = ord('c')\n",
    "        elif occ[c] == 8:\n",
    "            dictionary[ord(c)] = ord('a')\n",
    "    return dictionary"
   ]
  },
  {
   "cell_type": "code",
   "execution_count": 6,
   "metadata": {},
   "outputs": [],
   "source": [
    "def part_2( data : dict):\n",
    "    sum = 0\n",
    "    for input, output in zip(data['inputs'], data['outputs']):\n",
    "        dictionary = create_dictionary(input)\n",
    "        sum += int(''.join([s_to_n[''.join(sorted(o.translate(dictionary)))] for o in output]))\n",
    "    return sum"
   ]
  },
  {
   "cell_type": "code",
   "execution_count": 7,
   "metadata": {},
   "outputs": [
    {
     "data": {
      "text/plain": [
       "61229"
      ]
     },
     "execution_count": 7,
     "metadata": {},
     "output_type": "execute_result"
    }
   ],
   "source": [
    "part_2(test)"
   ]
  },
  {
   "cell_type": "code",
   "execution_count": 8,
   "metadata": {},
   "outputs": [
    {
     "data": {
      "text/plain": [
       "1084606"
      ]
     },
     "execution_count": 8,
     "metadata": {},
     "output_type": "execute_result"
    }
   ],
   "source": [
    "part_2(input)"
   ]
  }
 ],
 "metadata": {
  "interpreter": {
   "hash": "aee8b7b246df8f9039afb4144a1f6fd8d2ca17a180786b69acc140d282b71a49"
  },
  "kernelspec": {
   "display_name": "Python 3.9.9 64-bit",
   "language": "python",
   "name": "python3"
  },
  "language_info": {
   "codemirror_mode": {
    "name": "ipython",
    "version": 3
   },
   "file_extension": ".py",
   "mimetype": "text/x-python",
   "name": "python",
   "nbconvert_exporter": "python",
   "pygments_lexer": "ipython3",
   "version": "3.9.9"
  },
  "orig_nbformat": 4
 },
 "nbformat": 4,
 "nbformat_minor": 2
}
