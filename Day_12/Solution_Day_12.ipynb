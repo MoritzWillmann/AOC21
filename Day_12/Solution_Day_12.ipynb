{
 "cells": [
  {
   "cell_type": "markdown",
   "metadata": {},
   "source": [
    "# Day 12\n",
    "## Part 1"
   ]
  },
  {
   "cell_type": "code",
   "execution_count": 1,
   "metadata": {},
   "outputs": [],
   "source": [
    "from typing import Sequence\n",
    "import re\n",
    "def parse_input ( lines : Sequence[str] ):\n",
    "    connections = {}\n",
    "    pattern = re.compile(r'(\\w+)-(\\w+)')\n",
    "    for line in lines:\n",
    "        conn = pattern.findall(line)[0]\n",
    "        if conn[0] in connections.keys():\n",
    "            connections[conn[0]].append(conn[1])\n",
    "        else:\n",
    "            connections[conn[0]] = [conn[1]]\n",
    "        if conn[1] in connections.keys():\n",
    "            connections[conn[1]].append(conn[0])\n",
    "        else:\n",
    "            connections[conn[1]] = [conn[0]]\n",
    "    return connections\n",
    "\n",
    "def find_path_1( node : str, path : Sequence, connections : dict ):\n",
    "    if node == 'end':\n",
    "        return path + [node]\n",
    "    elif not (node.islower() and node in path):\n",
    "        return [find_path_1( next , path + [node], connections) for next in connections[node] ]\n",
    "\n",
    "def flatten(arr):\n",
    "  for i in arr:\n",
    "    if isinstance(i, list):\n",
    "      yield from flatten(i)\n",
    "    else:\n",
    "      yield i\n"
   ]
  },
  {
   "cell_type": "code",
   "execution_count": 2,
   "metadata": {},
   "outputs": [],
   "source": [
    "def part_1( lines : Sequence[str]):\n",
    "    connections = parse_input(lines)\n",
    "    paths = list(flatten(find_path_1('start', [], connections)))\n",
    "    return paths.count('start')\n"
   ]
  },
  {
   "cell_type": "code",
   "execution_count": 3,
   "metadata": {},
   "outputs": [
    {
     "data": {
      "text/plain": [
       "10"
      ]
     },
     "execution_count": 3,
     "metadata": {},
     "output_type": "execute_result"
    }
   ],
   "source": [
    "with open('test.txt', 'r') as file:\n",
    "    test = file.readlines()\n",
    "part_1(test)"
   ]
  },
  {
   "cell_type": "code",
   "execution_count": 4,
   "metadata": {},
   "outputs": [
    {
     "data": {
      "text/plain": [
       "4304"
      ]
     },
     "execution_count": 4,
     "metadata": {},
     "output_type": "execute_result"
    }
   ],
   "source": [
    "with open('input.txt', 'r') as file:\n",
    "    input = file.readlines()\n",
    "part_1(input)"
   ]
  },
  {
   "cell_type": "markdown",
   "metadata": {},
   "source": [
    "## Part 2"
   ]
  },
  {
   "cell_type": "code",
   "execution_count": 5,
   "metadata": {},
   "outputs": [],
   "source": [
    "def find_path_2( node : str, path : Sequence, connections : dict ):\n",
    "    if node == 'end':\n",
    "        return path + [node]\n",
    "    elif node == 'start' and len(path) > 1:\n",
    "        return None\n",
    "    elif ( not node.islower()  or \n",
    "           path.count(node)==0 or\n",
    "           all((not n.islower() or path.count(n)<2) for n in path)):\n",
    "        return [find_path_2( next , path + [node], connections) for next in connections[node] ]"
   ]
  },
  {
   "cell_type": "code",
   "execution_count": 6,
   "metadata": {},
   "outputs": [],
   "source": [
    "def part_2( lines : Sequence[str]):\n",
    "    connections = parse_input(lines)\n",
    "    paths = list(flatten(find_path_2('start', [], connections)))\n",
    "    return paths.count('start')"
   ]
  },
  {
   "cell_type": "code",
   "execution_count": 7,
   "metadata": {},
   "outputs": [
    {
     "data": {
      "text/plain": [
       "36"
      ]
     },
     "execution_count": 7,
     "metadata": {},
     "output_type": "execute_result"
    }
   ],
   "source": [
    "part_2(test)"
   ]
  },
  {
   "cell_type": "code",
   "execution_count": 8,
   "metadata": {},
   "outputs": [
    {
     "data": {
      "text/plain": [
       "118242"
      ]
     },
     "execution_count": 8,
     "metadata": {},
     "output_type": "execute_result"
    }
   ],
   "source": [
    "part_2(input)"
   ]
  }
 ],
 "metadata": {
  "interpreter": {
   "hash": "aee8b7b246df8f9039afb4144a1f6fd8d2ca17a180786b69acc140d282b71a49"
  },
  "kernelspec": {
   "display_name": "Python 3.9.9 64-bit",
   "language": "python",
   "name": "python3"
  },
  "language_info": {
   "codemirror_mode": {
    "name": "ipython",
    "version": 3
   },
   "file_extension": ".py",
   "mimetype": "text/x-python",
   "name": "python",
   "nbconvert_exporter": "python",
   "pygments_lexer": "ipython3",
   "version": "3.9.9"
  },
  "orig_nbformat": 4
 },
 "nbformat": 4,
 "nbformat_minor": 2
}
