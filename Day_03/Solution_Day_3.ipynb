{
 "cells": [
  {
   "cell_type": "markdown",
   "metadata": {},
   "source": [
    "# Day 3\n",
    "## Part 1"
   ]
  },
  {
   "cell_type": "code",
   "execution_count": 1,
   "metadata": {},
   "outputs": [],
   "source": [
    "import numpy as np"
   ]
  },
  {
   "cell_type": "code",
   "execution_count": 2,
   "metadata": {},
   "outputs": [],
   "source": [
    "test_report = ['00100', '11110', '10110', '10111', '10101', '01111', '00111', '11100',\n",
    "    '10000', '11001', '00010', '01010']"
   ]
  },
  {
   "cell_type": "code",
   "execution_count": 3,
   "metadata": {},
   "outputs": [
    {
     "name": "stdout",
     "output_type": "stream",
     "text": [
      "198\n"
     ]
    }
   ],
   "source": [
    "from typing import Sequence\n",
    "def part_1(report: Sequence[str]):\n",
    "    m = len(report)\n",
    "    n = len(report[0])\n",
    "    a = np.zeros((m, n), dtype=int)\n",
    "    for i, string in enumerate(report):\n",
    "        a[i,:] = list(map(int, string))\n",
    "    gamma = int(''.join(('0', '1')[bool(digit>1/2)] for digit in a.sum(0)/m), 2)\n",
    "    epsilon = 2**n-gamma-1\n",
    "    return gamma*epsilon\n",
    "    \n",
    "print(part_1(test_report))"
   ]
  },
  {
   "cell_type": "code",
   "execution_count": 4,
   "metadata": {},
   "outputs": [
    {
     "name": "stdout",
     "output_type": "stream",
     "text": [
      "3959450\n"
     ]
    }
   ],
   "source": [
    "with open('input.txt', 'r') as file:\n",
    "    report = [string.strip() for string in file.readlines()]\n",
    "print(part_1(report))"
   ]
  },
  {
   "cell_type": "markdown",
   "metadata": {},
   "source": [
    "## Part 2"
   ]
  },
  {
   "cell_type": "code",
   "execution_count": 5,
   "metadata": {},
   "outputs": [
    {
     "name": "stdout",
     "output_type": "stream",
     "text": [
      "230\n"
     ]
    }
   ],
   "source": [
    "def part_2(report: Sequence[str]):\n",
    "    m = len(report)\n",
    "    n = len(report[0])\n",
    "    a_o2 = np.zeros((m, n), dtype=int)\n",
    "    for i, string in enumerate(report):\n",
    "        a_o2[i,:] = list(map(int, string))\n",
    "    a_co2 = a_o2.copy()\n",
    "    for i in range(n):\n",
    "        if a_o2.shape[0]>1:\n",
    "            a_o2 = a_o2[a_o2[:,i]==(0,1)[bool(sum(a_o2[:,i])/a_o2.shape[0]>=1/2)]]\n",
    "        if a_co2.shape[0]>1:\n",
    "            a_co2 = a_co2[a_co2[:,i]==int(sum(a_co2[:,i])/a_co2.shape[0]<1/2)]\n",
    "    o2 = int(''.join(map(str, a_o2.ravel())), 2)\n",
    "    co2 = int(''.join(map(str, a_co2.ravel())), 2)\n",
    "    return o2 * co2\n",
    "print(part_2(test_report))\n",
    "    \n",
    "    "
   ]
  },
  {
   "cell_type": "code",
   "execution_count": 6,
   "metadata": {},
   "outputs": [
    {
     "name": "stdout",
     "output_type": "stream",
     "text": [
      "7440311\n"
     ]
    }
   ],
   "source": [
    "print(part_2(report))"
   ]
  }
 ],
 "metadata": {
  "interpreter": {
   "hash": "949777d72b0d2535278d3dc13498b2535136f6dfe0678499012e853ee9abcab1"
  },
  "kernelspec": {
   "display_name": "Python 3.9.7 64-bit",
   "name": "python3"
  },
  "language_info": {
   "codemirror_mode": {
    "name": "ipython",
    "version": 3
   },
   "file_extension": ".py",
   "mimetype": "text/x-python",
   "name": "python",
   "nbconvert_exporter": "python",
   "pygments_lexer": "ipython3",
   "version": "3.9.7"
  },
  "orig_nbformat": 4
 },
 "nbformat": 4,
 "nbformat_minor": 2
}
