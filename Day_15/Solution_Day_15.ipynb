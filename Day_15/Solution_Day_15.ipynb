{
 "cells": [
  {
   "cell_type": "markdown",
   "metadata": {},
   "source": [
    "# Day 15\n",
    "## Part 1"
   ]
  },
  {
   "cell_type": "code",
   "execution_count": 1,
   "metadata": {},
   "outputs": [],
   "source": [
    "import numpy as np\n",
    "from typing import Sequence\n",
    "def parse_input( lines : Sequence[str] ):\n",
    "    grid = np.zeros((len(lines), len(lines[0])-1), dtype=int)\n",
    "    for i, line in enumerate(lines):\n",
    "        grid[i,:] = list(line.strip())\n",
    "    return grid"
   ]
  },
  {
   "cell_type": "code",
   "execution_count": 2,
   "metadata": {},
   "outputs": [],
   "source": [
    "def neighbors( i : int, j : int, m : int, n : int):\n",
    "    if i < 1:\n",
    "        if j < 1:\n",
    "            return [(i, j+1), (i+1, j)]\n",
    "        elif j > n-2:\n",
    "            return [(i, j-1), (i+1, j)]\n",
    "        else:\n",
    "            return [(i, j-1), (i, j+1), (i+1, j)]\n",
    "    elif i > m-2:\n",
    "        if j < 1:\n",
    "            return [(i, j+1), (i-1, j)]\n",
    "        elif j > n-2:\n",
    "            return [(i, j-1), (i-1, j)]\n",
    "        else:\n",
    "            return [(i, j-1), (i, j+1), (i-1, j)]\n",
    "    else:\n",
    "        if j < 1:\n",
    "            return [(i, j+1), (i-1, j), (i+1, j)]\n",
    "        elif j > n-2:\n",
    "            return [(i, j-1), (i-1, j), (i+1, j)]\n",
    "        else:\n",
    "            return [(i, j-1), (i, j+1), (i-1, j), (i+1, j)]\n",
    "\n",
    "def astar( grid : np.ndarray ):\n",
    "    m, n = grid.shape\n",
    "    dist = lambda i, j: m-1-i+n-1-j\n",
    "    cost = {(0,0) : dist(0,0)}\n",
    "    prev = {(0,0) : None}\n",
    "    queue = [(0,0)]\n",
    "    while queue[0] != (m-1, n-1):\n",
    "        curr = queue.pop(0)\n",
    "        for neighbor in neighbors(curr[0], curr[1], m, n):\n",
    "            new_cost = cost[curr] - dist(curr[0], curr[1]) + grid[neighbor] + dist(neighbor[0], neighbor[1])\n",
    "            if neighbor not in cost.keys() or new_cost < cost[neighbor]:\n",
    "                cost[neighbor] = new_cost\n",
    "                prev[neighbor] = curr\n",
    "                queue.append(neighbor)\n",
    "        queue.sort(key=lambda x: cost[x])\n",
    "    path = [(m-1, n-1)]\n",
    "    while path[-1] != (0,0):\n",
    "        path.append(prev[path[-1]])\n",
    "    return path[::-1], cost[(m-1, n-1)]"
   ]
  },
  {
   "cell_type": "code",
   "execution_count": 3,
   "metadata": {},
   "outputs": [],
   "source": [
    "def part_1( lines : Sequence[str] ):\n",
    "    grid = parse_input(lines)\n",
    "    _, cost = astar(grid)\n",
    "    return cost"
   ]
  },
  {
   "cell_type": "code",
   "execution_count": 4,
   "metadata": {},
   "outputs": [
    {
     "data": {
      "text/plain": [
       "40"
      ]
     },
     "execution_count": 4,
     "metadata": {},
     "output_type": "execute_result"
    }
   ],
   "source": [
    "with open('test.txt', 'r') as file:\n",
    "    test = file.readlines()\n",
    "part_1(test)"
   ]
  },
  {
   "cell_type": "code",
   "execution_count": 5,
   "metadata": {},
   "outputs": [
    {
     "data": {
      "text/plain": [
       "462"
      ]
     },
     "execution_count": 5,
     "metadata": {},
     "output_type": "execute_result"
    }
   ],
   "source": [
    "with open('input.txt', 'r') as file:\n",
    "    input = file.readlines()\n",
    "part_1(input)"
   ]
  },
  {
   "cell_type": "markdown",
   "metadata": {},
   "source": [
    "## Part 2"
   ]
  },
  {
   "cell_type": "code",
   "execution_count": 6,
   "metadata": {},
   "outputs": [],
   "source": [
    "def create_full_grid( grid : np.ndarray ):\n",
    "    m,n = grid.shape\n",
    "    full_grid = np.zeros((5*m, 5*n), dtype=int)\n",
    "    for i in range(5):\n",
    "        for j in range(5):\n",
    "            full_grid[i*m:(i+1)*m, j*n:(j+1)*n] = grid + i + j\n",
    "    return full_grid%9 + (full_grid==9)*9"
   ]
  },
  {
   "cell_type": "code",
   "execution_count": 7,
   "metadata": {},
   "outputs": [],
   "source": [
    "def part_2( lines : Sequence[str] ):\n",
    "    grid = parse_input(lines)\n",
    "    full_grid = create_full_grid(grid)\n",
    "    _, cost = astar(full_grid)\n",
    "    return cost"
   ]
  },
  {
   "cell_type": "code",
   "execution_count": 8,
   "metadata": {},
   "outputs": [
    {
     "data": {
      "text/plain": [
       "315"
      ]
     },
     "execution_count": 8,
     "metadata": {},
     "output_type": "execute_result"
    }
   ],
   "source": [
    "part_2(test)"
   ]
  },
  {
   "cell_type": "code",
   "execution_count": 9,
   "metadata": {},
   "outputs": [
    {
     "data": {
      "text/plain": [
       "2846"
      ]
     },
     "execution_count": 9,
     "metadata": {},
     "output_type": "execute_result"
    }
   ],
   "source": [
    "part_2(input)"
   ]
  }
 ],
 "metadata": {
  "interpreter": {
   "hash": "aee8b7b246df8f9039afb4144a1f6fd8d2ca17a180786b69acc140d282b71a49"
  },
  "kernelspec": {
   "display_name": "Python 3.9.9 64-bit",
   "language": "python",
   "name": "python3"
  },
  "language_info": {
   "codemirror_mode": {
    "name": "ipython",
    "version": 3
   },
   "file_extension": ".py",
   "mimetype": "text/x-python",
   "name": "python",
   "nbconvert_exporter": "python",
   "pygments_lexer": "ipython3",
   "version": "3.9.9"
  },
  "orig_nbformat": 4
 },
 "nbformat": 4,
 "nbformat_minor": 2
}
