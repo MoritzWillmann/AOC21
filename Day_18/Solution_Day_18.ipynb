{
 "cells": [
  {
   "cell_type": "markdown",
   "metadata": {},
   "source": [
    "# Day 18\n",
    "## Part 1"
   ]
  },
  {
   "cell_type": "code",
   "execution_count": 1,
   "metadata": {},
   "outputs": [],
   "source": [
    "def parse_string( input : str ):\n",
    "    '''parse snailfish number string to list, accounting for double digit numbers'''\n",
    "    num = -1\n",
    "    o = []\n",
    "    for c in input:\n",
    "        if c.isnumeric():\n",
    "            num = max(num, 0)\n",
    "            num *= 10\n",
    "            num += int(c)\n",
    "        else:\n",
    "            if num>=0:\n",
    "                o.append(str(num))\n",
    "                num = -1\n",
    "            o.append(c)\n",
    "    return o\n",
    "\n",
    "def split( input : list ):\n",
    "    '''one split step, if any'''\n",
    "    edited = False\n",
    "    i = 0\n",
    "    while i < len(input):\n",
    "        if input[i].isnumeric() and int(input[i]) > 9 and not edited:\n",
    "                total = int(input.pop(i))\n",
    "                input[i:i] = ['[', str(total//2), ',', str((total+1)//2), ']']\n",
    "                edited = True\n",
    "                i += 4\n",
    "        i+=1\n",
    "    return edited\n",
    "\n",
    "def explode( input : list ):\n",
    "    '''one explode step, if any'''\n",
    "    depth = 0\n",
    "    lastnum = 0\n",
    "    carryover = 0\n",
    "    edited = False\n",
    "    i = 0\n",
    "    while i < len(input):\n",
    "        depth += int(input[i]=='[') - int(input[i]==']')\n",
    "        if input[i].isnumeric():\n",
    "            input[i] = str(int(input[i])+carryover)\n",
    "            carryover = 0\n",
    "            lastnum = i\n",
    "        if depth > 4 and not edited:\n",
    "            edited = True\n",
    "            if lastnum:\n",
    "                input[lastnum] = str(int(input[lastnum])+int(input[i+1]))\n",
    "            carryover = int(input[i+3])\n",
    "            for _ in range(5):\n",
    "                input.pop(i)\n",
    "            input.insert(i, str(0))\n",
    "        i+=1\n",
    "    return edited\n",
    "\n",
    "def reduce( input : str):\n",
    "    '''fully reduce snailfish number string'''\n",
    "    edited = True\n",
    "    lst = parse_string(input)\n",
    "    while edited:\n",
    "        # check for explodes first\n",
    "        edited = explode(lst)\n",
    "        if not edited:\n",
    "            edited = split(lst)\n",
    "    return ''.join(lst)\n",
    "\n",
    "def add( left : str, right : str ):\n",
    "    '''add snailfish numbers'''\n",
    "    return f'[{left},{right}]'\n",
    "\n",
    "def magnitude( input : str ):\n",
    "    '''calculate magnitude of reduced snailfish number'''\n",
    "    return eval(input.replace(\"[\", \"(3*\").replace(\",\", \" + 2*\").replace(\"]\", \")\"))"
   ]
  },
  {
   "cell_type": "code",
   "execution_count": 2,
   "metadata": {},
   "outputs": [],
   "source": [
    "from typing import Sequence\n",
    "def part_1( input : Sequence[str] ):\n",
    "    snail_number = input[0].strip()\n",
    "    for summand in input[1:]:\n",
    "        snail_number = add(snail_number, summand.strip())\n",
    "        snail_number = reduce(snail_number)\n",
    "    return magnitude(snail_number)"
   ]
  },
  {
   "cell_type": "code",
   "execution_count": 3,
   "metadata": {},
   "outputs": [
    {
     "data": {
      "text/plain": [
       "3488"
      ]
     },
     "execution_count": 3,
     "metadata": {},
     "output_type": "execute_result"
    }
   ],
   "source": [
    "with open('test1.txt', 'r') as file:\n",
    "    test1 = file.readlines()\n",
    "part_1(test1)"
   ]
  },
  {
   "cell_type": "code",
   "execution_count": 4,
   "metadata": {},
   "outputs": [
    {
     "data": {
      "text/plain": [
       "4140"
      ]
     },
     "execution_count": 4,
     "metadata": {},
     "output_type": "execute_result"
    }
   ],
   "source": [
    "with open('test2.txt', 'r') as file:\n",
    "    test2 = file.readlines()\n",
    "part_1(test2)"
   ]
  },
  {
   "cell_type": "code",
   "execution_count": 5,
   "metadata": {},
   "outputs": [
    {
     "data": {
      "text/plain": [
       "3816"
      ]
     },
     "execution_count": 5,
     "metadata": {},
     "output_type": "execute_result"
    }
   ],
   "source": [
    "with open('input.txt', 'r') as file:\n",
    "    input = file.readlines()\n",
    "part_1(input)"
   ]
  },
  {
   "cell_type": "markdown",
   "metadata": {},
   "source": [
    "## Part 2"
   ]
  },
  {
   "cell_type": "code",
   "execution_count": 6,
   "metadata": {},
   "outputs": [],
   "source": [
    "def part_2( input : Sequence[str] ):\n",
    "    sn_max = 0\n",
    "    for sn1 in input:\n",
    "        for sn2 in input:\n",
    "            sn_max = max(sn_max, magnitude(reduce(add(sn1, sn2))))\n",
    "            sn_max = max(sn_max, magnitude(reduce(add(sn2, sn1))))\n",
    "    return sn_max"
   ]
  },
  {
   "cell_type": "code",
   "execution_count": 7,
   "metadata": {},
   "outputs": [
    {
     "data": {
      "text/plain": [
       "3993"
      ]
     },
     "execution_count": 7,
     "metadata": {},
     "output_type": "execute_result"
    }
   ],
   "source": [
    "part_2(test2)"
   ]
  },
  {
   "cell_type": "code",
   "execution_count": 8,
   "metadata": {},
   "outputs": [
    {
     "data": {
      "text/plain": [
       "4819"
      ]
     },
     "execution_count": 8,
     "metadata": {},
     "output_type": "execute_result"
    }
   ],
   "source": [
    "part_2(input)"
   ]
  }
 ],
 "metadata": {
  "interpreter": {
   "hash": "aee8b7b246df8f9039afb4144a1f6fd8d2ca17a180786b69acc140d282b71a49"
  },
  "kernelspec": {
   "display_name": "Python 3.9.9 64-bit",
   "language": "python",
   "name": "python3"
  },
  "language_info": {
   "codemirror_mode": {
    "name": "ipython",
    "version": 3
   },
   "file_extension": ".py",
   "mimetype": "text/x-python",
   "name": "python",
   "nbconvert_exporter": "python",
   "pygments_lexer": "ipython3",
   "version": "3.9.9"
  },
  "orig_nbformat": 4
 },
 "nbformat": 4,
 "nbformat_minor": 2
}
