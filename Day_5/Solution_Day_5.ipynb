{
 "cells": [
  {
   "cell_type": "markdown",
   "metadata": {},
   "source": [
    "# Day 5\n",
    "## Part 1"
   ]
  },
  {
   "cell_type": "code",
   "execution_count": 1,
   "metadata": {},
   "outputs": [],
   "source": [
    "import re\n",
    "from typing import Sequence\n",
    "import numpy as np\n",
    "def parse_lines(lines: Sequence):\n",
    "    \"\"\"Parse lines from string format to numpy array\"\"\"\n",
    "    line_pattern = re.compile(r'(\\d+),(\\d+) -> (\\d+),(\\d+)')\n",
    "    endpoints = np.zeros((len(lines), 4), dtype=int)\n",
    "    for i, line in enumerate(lines):\n",
    "        endpoints[i,:] = list(map(int, line_pattern.findall(line)[0]))\n",
    "    return endpoints\n",
    "    "
   ]
  },
  {
   "cell_type": "code",
   "execution_count": 2,
   "metadata": {},
   "outputs": [],
   "source": [
    "def filter_hor_ver(endpoints : np.ndarray):\n",
    "    \"\"\"Filter horizontal and vertical lines\"\"\"\n",
    "    ids = [p[0]==p[2] or p[1]==p[3] for p in endpoints]\n",
    "    return endpoints[ids,:]\n"
   ]
  },
  {
   "cell_type": "code",
   "execution_count": 3,
   "metadata": {},
   "outputs": [],
   "source": [
    "def part_1(lines: Sequence):\n",
    "    \"\"\"Count points where at least 2 lines intersect\"\"\"\n",
    "    endpoints = parse_lines(lines)\n",
    "    endpoints_hv = filter_hor_ver(endpoints)\n",
    "    grid = np.zeros((endpoints.max()+1, endpoints.max()+1), dtype=int)\n",
    "    for line in endpoints_hv:\n",
    "        # calculate the directions in which the lines run\n",
    "        dir = np.array(([0,1],[1,0])[bool(abs(line[2]-line[0])>0)])\n",
    "        # set initial point\n",
    "        p = np.array([min(line[0], line[2]), min(line[3], line[1])])\n",
    "        # draw line\n",
    "        for _ in range(max(abs(line[2]-line[0]), abs(line[3]-line[1]))+1):\n",
    "            grid[p[0], p[1]] += 1\n",
    "            p += dir\n",
    "    return (grid>=2).sum()"
   ]
  },
  {
   "cell_type": "code",
   "execution_count": 4,
   "metadata": {},
   "outputs": [
    {
     "data": {
      "text/plain": [
       "5"
      ]
     },
     "execution_count": 4,
     "metadata": {},
     "output_type": "execute_result"
    }
   ],
   "source": [
    "with open('test.txt', 'r') as file:\n",
    "    test = file.readlines()\n",
    "part_1(test)"
   ]
  },
  {
   "cell_type": "code",
   "execution_count": 5,
   "metadata": {},
   "outputs": [
    {
     "data": {
      "text/plain": [
       "7318"
      ]
     },
     "execution_count": 5,
     "metadata": {},
     "output_type": "execute_result"
    }
   ],
   "source": [
    "with open('input.txt', 'r') as file:\n",
    "    lines = file.readlines()\n",
    "part_1(lines)"
   ]
  },
  {
   "cell_type": "markdown",
   "metadata": {},
   "source": [
    "## Part 2"
   ]
  },
  {
   "cell_type": "code",
   "execution_count": 6,
   "metadata": {},
   "outputs": [],
   "source": [
    "from math import sqrt\n",
    "def part_2(lines: Sequence):\n",
    "    \"\"\"Count points where at least 2 lines intersect\"\"\"\n",
    "    endpoints = parse_lines(lines)\n",
    "    grid = np.zeros((endpoints.max()+1, endpoints.max()+1), dtype=int)\n",
    "    for line in endpoints:\n",
    "        # calculate the directions in which the lines run\n",
    "        length = sqrt(abs(line[2]-line[0])**2 + abs(line[3]-line[1])**2)\n",
    "        dir = np.array([int(round((line[2]-line[0])/length)), int(round((line[3]-line[1])/length))])\n",
    "        # set initial point\n",
    "        p = np.array(line[:2])\n",
    "        # draw line\n",
    "        while any(p!=line[2:]):\n",
    "            grid[p[0],p[1]] += 1\n",
    "            p += dir\n",
    "        # draw endpoint\n",
    "        grid[p[0],p[1]] += 1\n",
    "    return (grid>=2).sum()"
   ]
  },
  {
   "cell_type": "code",
   "execution_count": 7,
   "metadata": {},
   "outputs": [
    {
     "data": {
      "text/plain": [
       "12"
      ]
     },
     "execution_count": 7,
     "metadata": {},
     "output_type": "execute_result"
    }
   ],
   "source": [
    "part_2(test)"
   ]
  },
  {
   "cell_type": "code",
   "execution_count": 8,
   "metadata": {},
   "outputs": [
    {
     "data": {
      "text/plain": [
       "19939"
      ]
     },
     "execution_count": 8,
     "metadata": {},
     "output_type": "execute_result"
    }
   ],
   "source": [
    "part_2(lines)"
   ]
  }
 ],
 "metadata": {
  "interpreter": {
   "hash": "aee8b7b246df8f9039afb4144a1f6fd8d2ca17a180786b69acc140d282b71a49"
  },
  "kernelspec": {
   "display_name": "Python 3.9.9 64-bit",
   "language": "python",
   "name": "python3"
  },
  "language_info": {
   "codemirror_mode": {
    "name": "ipython",
    "version": 3
   },
   "file_extension": ".py",
   "mimetype": "text/x-python",
   "name": "python",
   "nbconvert_exporter": "python",
   "pygments_lexer": "ipython3",
   "version": "3.9.9"
  },
  "orig_nbformat": 4
 },
 "nbformat": 4,
 "nbformat_minor": 2
}
